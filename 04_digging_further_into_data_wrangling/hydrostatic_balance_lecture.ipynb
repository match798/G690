{
 "cells": [
  {
   "cell_type": "markdown",
   "metadata": {},
   "source": [
    "# Hydrostatic Balance\n",
    "\n",
    "Blance between vertical pressure gradient, $\\partial p/\\partial z$, and the gravitational force, $-\\rho g$,\n",
    "where $\\rho$ is the air density and $z$ is the height from the surface.\n",
    "\n",
    "In equation form this is:\n",
    "\n",
    "$$ \\frac{\\partial p} {\\partial z} = - \\rho g $$\n",
    "\n",
    "combine this with the ideal gas law, which for the atmosphree is $p = \\rho R_d T$, where $R_d$ is the gas \n",
    "'constant' (287 J/kg/K) and $T$ is the temperature. The combination of the two yields:\n",
    "\n",
    "$$ \\frac{\\partial p} {\\partial z} = - \\frac{p g} {R_d T} $$"
   ]
  },
  {
   "cell_type": "markdown",
   "metadata": {},
   "source": [
    "We can use finite differences to approximate the deriative, where $\\Delta p$ and $\\Delta z$ represent \n",
    "differences in  pressure and height between two locations.\n",
    "\n",
    "$$ \\frac{\\Delta p}{\\Delta z} = -\\frac{p g}{R_d T} $$\n",
    "\n",
    "Solving for $\\Delta z$ gives an equation that allows for estimation of a change in height:\n",
    "\n",
    "$$ \\Delta z  = - \\frac{R_d T} {g} \\cdot \\frac{\\Delta p} {p}$$"
   ]
  },
  {
   "cell_type": "code",
   "execution_count": 1,
   "metadata": {},
   "outputs": [],
   "source": [
    "# import libraries\n",
    "import numpy as np\n",
    "import matplotlib.pyplot as plt"
   ]
  },
  {
   "cell_type": "code",
   "execution_count": 2,
   "metadata": {},
   "outputs": [],
   "source": [
    "# define parameters\n",
    "T = 288.15  # standard atmospheric temprature (K)\n",
    "Rd = 287  # gas constant (J/kg/K)\n",
    "g = 9.806  # gravity (m/s/s)\n",
    "p = np.linspace(1, 100000, 1000)  # air pressure (Pa)\n",
    "p = p[::-1]\n",
    "# or use p = p.reverse()"
   ]
  },
  {
   "cell_type": "code",
   "execution_count": 3,
   "metadata": {},
   "outputs": [],
   "source": [
    "# calculate changes in pressure\n",
    "dp = np.diff(p)\n",
    "\n",
    "# calculate the average p between pairs\n",
    "p_avg = 0.5*(p[1:] + p[:-1])\n",
    "\n",
    "# calculate the changes in height\n",
    "dz = -(Rd*T/g) * (dp/p_avg)"
   ]
  }
 ],
 "metadata": {
  "kernelspec": {
   "display_name": "easg690",
   "language": "python",
   "name": "easg690"
  },
  "language_info": {
   "codemirror_mode": {
    "name": "ipython",
    "version": 3
   },
   "file_extension": ".py",
   "mimetype": "text/x-python",
   "name": "python",
   "nbconvert_exporter": "python",
   "pygments_lexer": "ipython3",
   "version": "3.10.13"
  },
  "orig_nbformat": 4
 },
 "nbformat": 4,
 "nbformat_minor": 2
}
