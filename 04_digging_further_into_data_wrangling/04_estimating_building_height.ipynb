{
 "cells": [
  {
   "cell_type": "markdown",
   "metadata": {},
   "source": [
    "<a target=\"_blank\" href=\"https://colab.research.google.com/github/taobrienlbl/advanced_earth_science_data_analysis/blob/spring_2023_iub/lessons/04_digging_further_into_data_wrangling/04_estimating_building_height.ipynb\">\n",
    "  <img src=\"https://colab.research.google.com/assets/colab-badge.svg\" alt=\"Open In Colab\"/>\n",
    "</a>\n",
    "\n",
    "This exercise aims to build on your knowledge of the big-four data science libraries to use Kestrel atmospheric measurement devices to estimate the height difference between the ground floor and sixth floor of the Geology building.\n",
    "\n",
    "# Background\n",
    "\n",
    "Air pressure monotonically decreases with height in the atmosphere.  This is simply due to the fact that *air pressure is a measure of the weight of everything above*.  So higher up in the atmosphere there is less atmosphere (weight) above, and pressure decreases.\n",
    "\n",
    "One of the basic principles of fluid dynamics is that a *pressure gradient*--a change in pressure over some distance--exerts a net force on the fluid that, in the absence of other forces, would cause the fluid to move.  So why then does the atmosphere not flow away to space in response to this pressure gradient?\n",
    "\n",
    "To a very good approximation, the atmosphere is in *hydrostatic balance*, meaning that the vertical pressure gradient is balanced by the force of gravity on the air; gravity effectively negates the pressure gradient force.  This leads to one of the most essential equations in atmospheric science:\n",
    "\n",
    "$$ \\frac{\\partial p}{\\partial z} = -\\rho g$$\n",
    "\n",
    "where $p$ is the atmospheric pressure, $z$ is height away from the surface, $\\rho$ is air density, and $g$ is the gravitational acceleration (we'll use $g \\approx 9.806~\\text{m s}^{-2}$ here).\n",
    "\n",
    "If we combine this with the ideal gas law (written in a form that is convenient for atmospheric gasses, where $R_d \\approx 287~\\text{J kg}^{-1}\\text{K}^{-1}$ represents a constant for air with the composition of Earth's atmosphere), we get a differential equation for pressure.\n",
    "\n",
    "$$\\text{Ideal gas law: }~p = \\rho R_d T \\to $$\n",
    "\n",
    "$$ \\frac{\\partial p}{\\partial z} = - \\frac{p g}{R_d T} $$\n",
    "\n",
    "We can approximate the derivatives in this equation using finite differences: $\\partial p/\\partial z \\to \\Delta p / \\Delta z$, where $\\Delta$ represents a (presumably small) difference between two pressure or height measurements.  We can then use this to solve for the change in height as a function of changes in pressure:\n",
    "\n",
    "$$ \\Delta z \\approx - \\frac{R_d T}{g} \\frac{\\Delta p}{p}$$\n",
    "\n",
    "# Estimating height\n",
    "\n",
    "Now imagine that we have a device that records pressure and temperature every second or so.  If you take that device and walk up a set of stairs, the recorded pressure will drop a bit for every second that you're ascending.  A pair of measurements taken at consecutive times can be used to estimate $\\Delta p$, and the average of the two measurements can be used to estimate $p$ and $T$ over tha same time frame.  These values can be plugged in to the above formula to estimate the change in height between the two measurements.  The sum of all the changes in height then gives an estimate of the total change in height; we will have numerically integrated the differential equation that comes from combining hydrostatic balance and the ideal gas law.\n",
    "\n",
    "## Instructions\n",
    "\n",
    "1. form groups of two or three\n",
    "1. acquaint yourself with the Kestrel measuring devices, and pair it to at least one of your phones using [Kestrel Link](https://kestrelinstruments.com/link-connectivity)\n",
    "1. ensure that you can record measurements and export them to csv\n",
    "1. take the kestrel device down to the ground floor of the Geology building; go to the loop\n",
    "1. start recording\n",
    "1. either walk up the stairwell, or take the elevator, up to the 7th floor (you can only access this floor from the western stairwell)\n",
    "1. end recording\n",
    "1. export the data to a CSV file and add it to your course git folder (into a folder for lesson 04)\n",
    "1. estimate the difference in height between the two floors using the method above (*hint*: you should use `pandas`, and you should be able to make a new column for the calculation of $\\Delta p$ and $\\Delta z$ for each measurement, and then use the `.sum()` method)"
   ]
  },
  {
   "cell_type": "markdown",
   "metadata": {},
   "source": [
    "*Delete this and insert some initial observations / thoughts for documenting the data analysis process using Markdown*"
   ]
  },
  {
   "cell_type": "code",
   "execution_count": 1,
   "metadata": {},
   "outputs": [],
   "source": [
    "# import necessary libraries\n",
    "import numpy as np\n",
    "import pandas as pd\n",
    "import matplotlib.pyplot as plt"
   ]
  },
  {
   "cell_type": "code",
   "execution_count": 2,
   "metadata": {},
   "outputs": [
    {
     "name": "stderr",
     "output_type": "stream",
     "text": [
      "C:\\Users\\CRH\\AppData\\Local\\Temp\\ipykernel_21084\\1262473777.py:3: UserWarning: Could not infer format, so each element will be parsed individually, falling back to `dateutil`. To ensure parsing is consistent and as-expected, please specify a format.\n",
      "  weather_df = pd.read_csv(file_path, skiprows=[0, 1, 2, 4], header=0, usecols=range(0,16), parse_dates=[0])\n"
     ]
    },
    {
     "data": {
      "text/html": [
       "<div>\n",
       "<style scoped>\n",
       "    .dataframe tbody tr th:only-of-type {\n",
       "        vertical-align: middle;\n",
       "    }\n",
       "\n",
       "    .dataframe tbody tr th {\n",
       "        vertical-align: top;\n",
       "    }\n",
       "\n",
       "    .dataframe thead th {\n",
       "        text-align: right;\n",
       "    }\n",
       "</style>\n",
       "<table border=\"1\" class=\"dataframe\">\n",
       "  <thead>\n",
       "    <tr style=\"text-align: right;\">\n",
       "      <th></th>\n",
       "      <th>FORMATTED DATE_TIME</th>\n",
       "      <th>Temperature</th>\n",
       "      <th>Wet Bulb Temp</th>\n",
       "      <th>Relative Humidity</th>\n",
       "      <th>Barometric Pressure</th>\n",
       "      <th>Altitude</th>\n",
       "      <th>Station Pressure</th>\n",
       "      <th>Wind Speed</th>\n",
       "      <th>Heat Index</th>\n",
       "      <th>Dew Point</th>\n",
       "      <th>Density Altitude</th>\n",
       "      <th>Crosswind</th>\n",
       "      <th>Headwind</th>\n",
       "      <th>Compass Magnetic Direction</th>\n",
       "      <th>Compass True Direction</th>\n",
       "      <th>Wind Chill</th>\n",
       "    </tr>\n",
       "  </thead>\n",
       "  <tbody>\n",
       "    <tr>\n",
       "      <th>0</th>\n",
       "      <td>2023-09-15 14:52:22</td>\n",
       "      <td>71.2</td>\n",
       "      <td>59.7</td>\n",
       "      <td>51.2</td>\n",
       "      <td>29.30</td>\n",
       "      <td>572</td>\n",
       "      <td>29.30</td>\n",
       "      <td>0.0</td>\n",
       "      <td>70.3</td>\n",
       "      <td>52.3</td>\n",
       "      <td>1674</td>\n",
       "      <td>--</td>\n",
       "      <td>--</td>\n",
       "      <td>--</td>\n",
       "      <td>--</td>\n",
       "      <td>71.1</td>\n",
       "    </tr>\n",
       "    <tr>\n",
       "      <th>1</th>\n",
       "      <td>2023-09-15 14:52:25</td>\n",
       "      <td>71.3</td>\n",
       "      <td>59.7</td>\n",
       "      <td>51.2</td>\n",
       "      <td>29.30</td>\n",
       "      <td>572</td>\n",
       "      <td>29.30</td>\n",
       "      <td>0.0</td>\n",
       "      <td>70.5</td>\n",
       "      <td>52.4</td>\n",
       "      <td>1681</td>\n",
       "      <td>--</td>\n",
       "      <td>--</td>\n",
       "      <td>--</td>\n",
       "      <td>--</td>\n",
       "      <td>71.2</td>\n",
       "    </tr>\n",
       "    <tr>\n",
       "      <th>2</th>\n",
       "      <td>2023-09-15 14:52:28</td>\n",
       "      <td>71.3</td>\n",
       "      <td>59.7</td>\n",
       "      <td>51.4</td>\n",
       "      <td>29.30</td>\n",
       "      <td>569</td>\n",
       "      <td>29.30</td>\n",
       "      <td>0.0</td>\n",
       "      <td>70.5</td>\n",
       "      <td>52.4</td>\n",
       "      <td>1676</td>\n",
       "      <td>--</td>\n",
       "      <td>--</td>\n",
       "      <td>--</td>\n",
       "      <td>--</td>\n",
       "      <td>71.2</td>\n",
       "    </tr>\n",
       "    <tr>\n",
       "      <th>3</th>\n",
       "      <td>2023-09-15 14:52:31</td>\n",
       "      <td>71.3</td>\n",
       "      <td>59.7</td>\n",
       "      <td>51.4</td>\n",
       "      <td>29.31</td>\n",
       "      <td>567</td>\n",
       "      <td>29.31</td>\n",
       "      <td>0.0</td>\n",
       "      <td>70.5</td>\n",
       "      <td>52.4</td>\n",
       "      <td>1674</td>\n",
       "      <td>--</td>\n",
       "      <td>--</td>\n",
       "      <td>--</td>\n",
       "      <td>--</td>\n",
       "      <td>71.2</td>\n",
       "    </tr>\n",
       "    <tr>\n",
       "      <th>4</th>\n",
       "      <td>2023-09-15 14:52:34</td>\n",
       "      <td>71.2</td>\n",
       "      <td>59.5</td>\n",
       "      <td>51.2</td>\n",
       "      <td>29.31</td>\n",
       "      <td>567</td>\n",
       "      <td>29.31</td>\n",
       "      <td>0.0</td>\n",
       "      <td>70.3</td>\n",
       "      <td>52.2</td>\n",
       "      <td>1669</td>\n",
       "      <td>--</td>\n",
       "      <td>--</td>\n",
       "      <td>--</td>\n",
       "      <td>--</td>\n",
       "      <td>71.1</td>\n",
       "    </tr>\n",
       "  </tbody>\n",
       "</table>\n",
       "</div>"
      ],
      "text/plain": [
       "  FORMATTED DATE_TIME  Temperature  Wet Bulb Temp  Relative Humidity  \\\n",
       "0 2023-09-15 14:52:22         71.2           59.7               51.2   \n",
       "1 2023-09-15 14:52:25         71.3           59.7               51.2   \n",
       "2 2023-09-15 14:52:28         71.3           59.7               51.4   \n",
       "3 2023-09-15 14:52:31         71.3           59.7               51.4   \n",
       "4 2023-09-15 14:52:34         71.2           59.5               51.2   \n",
       "\n",
       "   Barometric Pressure  Altitude  Station Pressure  Wind Speed  Heat Index  \\\n",
       "0                29.30       572             29.30         0.0        70.3   \n",
       "1                29.30       572             29.30         0.0        70.5   \n",
       "2                29.30       569             29.30         0.0        70.5   \n",
       "3                29.31       567             29.31         0.0        70.5   \n",
       "4                29.31       567             29.31         0.0        70.3   \n",
       "\n",
       "   Dew Point  Density Altitude Crosswind Headwind Compass Magnetic Direction  \\\n",
       "0       52.3              1674        --       --                         --   \n",
       "1       52.4              1681        --       --                         --   \n",
       "2       52.4              1676        --       --                         --   \n",
       "3       52.4              1674        --       --                         --   \n",
       "4       52.2              1669        --       --                         --   \n",
       "\n",
       "  Compass True Direction  Wind Chill  \n",
       "0                     --        71.1  \n",
       "1                     --        71.2  \n",
       "2                     --        71.2  \n",
       "3                     --        71.2  \n",
       "4                     --        71.1  "
      ]
     },
     "execution_count": 2,
     "metadata": {},
     "output_type": "execute_result"
    }
   ],
   "source": [
    "# open weather measurement file\n",
    "file_path = \"WEATHER_-_2414786_Sep_15_2023_2_54_46_PM.csv\"\n",
    "weather_df = pd.read_csv(file_path, skiprows=[0, 1, 2, 4], header=0, usecols=range(0,16), parse_dates=[0])\n",
    "weather_df.head()"
   ]
  },
  {
   "cell_type": "code",
   "execution_count": 3,
   "metadata": {},
   "outputs": [
    {
     "name": "stdout",
     "output_type": "stream",
     "text": [
      "<class 'pandas.core.frame.DataFrame'>\n",
      "RangeIndex: 49 entries, 0 to 48\n",
      "Data columns (total 16 columns):\n",
      " #   Column                      Non-Null Count  Dtype         \n",
      "---  ------                      --------------  -----         \n",
      " 0   FORMATTED DATE_TIME         49 non-null     datetime64[ns]\n",
      " 1   Temperature                 49 non-null     float64       \n",
      " 2   Wet Bulb Temp               49 non-null     float64       \n",
      " 3   Relative Humidity           49 non-null     float64       \n",
      " 4   Barometric Pressure         49 non-null     float64       \n",
      " 5   Altitude                    49 non-null     int64         \n",
      " 6   Station Pressure            49 non-null     float64       \n",
      " 7   Wind Speed                  49 non-null     float64       \n",
      " 8   Heat Index                  49 non-null     float64       \n",
      " 9   Dew Point                   49 non-null     float64       \n",
      " 10  Density Altitude            49 non-null     int64         \n",
      " 11  Crosswind                   49 non-null     object        \n",
      " 12  Headwind                    49 non-null     object        \n",
      " 13  Compass Magnetic Direction  49 non-null     object        \n",
      " 14  Compass True Direction      49 non-null     object        \n",
      " 15  Wind Chill                  49 non-null     float64       \n",
      "dtypes: datetime64[ns](1), float64(9), int64(2), object(4)\n",
      "memory usage: 6.3+ KB\n"
     ]
    }
   ],
   "source": [
    "weather_df.info()"
   ]
  },
  {
   "cell_type": "code",
   "execution_count": 4,
   "metadata": {},
   "outputs": [],
   "source": [
    "# define constant parameters\n",
    "T = 288.15  # standard atmospheric temprature (K)\n",
    "Rd = 287  # gas constant (J/kg/K)\n",
    "g = 9.806  # gravity (m/s/s)"
   ]
  },
  {
   "cell_type": "code",
   "execution_count": 5,
   "metadata": {},
   "outputs": [],
   "source": [
    "# Convert units to metrics\n",
    "weather_df['Temperature_K'] = 273.5 + ((weather_df['Temperature'] - 32.0) * (5.0/9.0))\n",
    "weather_df['Pressure_Pa'] = weather_df['Station Pressure']/0.00029530"
   ]
  },
  {
   "cell_type": "code",
   "execution_count": 6,
   "metadata": {},
   "outputs": [],
   "source": [
    "# calcualte the changes in station pressure\n",
    "weather_df['p_diff'] = weather_df['Pressure_Pa'].diff()\n",
    "\n",
    "# calcualte the average pressure between pairs\n",
    "weather_df['p_avg'] = 0.5*(weather_df['Pressure_Pa'].iloc[1:] + weather_df['Pressure_Pa'].iloc[:-1])\n",
    "\n",
    "# calcualte the changes in height\n",
    "weather_df['h_diff'] = -(Rd/g)*(weather_df['p_diff']*weather_df['Temperature_K']/weather_df['p_avg'])\n",
    "\n",
    "# calculate the height\n",
    "weather_df['height'] = weather_df['h_diff'].cumsum()"
   ]
  },
  {
   "cell_type": "code",
   "execution_count": 7,
   "metadata": {},
   "outputs": [
    {
     "data": {
      "image/png": "[encoded data removed]",
      "text/plain": [
       "<Figure size 1500x1000 with 1 Axes>"
      ]
     },
     "metadata": {},
     "output_type": "display_data"
    }
   ],
   "source": [
    "# plot the relationship between changes in pressure and height\n",
    "fig, ax = plt.subplots(figsize=(15,10))\n",
    "weather_df.plot(x='Pressure_Pa', y='height', ax = ax)\n",
    "ax.set_xlabel(\"Pressure (Pa)\")\n",
    "ax.set_ylabel(\"Calculated Height (m)\")\n",
    "plt.show()"
   ]
  },
  {
   "cell_type": "code",
   "execution_count": 13,
   "metadata": {},
   "outputs": [
    {
     "data": {
      "text/plain": [
       "0           NaN\n",
       "1      0.000000\n",
       "2      0.000000\n",
       "3     -2.949081\n",
       "4     -2.949081\n",
       "5     -2.949081\n",
       "6     -0.000103\n",
       "7     -0.000103\n",
       "8     -0.000103\n",
       "9      2.948215\n",
       "10     2.948215\n",
       "11     2.948215\n",
       "12     2.948215\n",
       "13     2.948215\n",
       "14     2.948215\n",
       "15     2.948215\n",
       "16     5.893654\n",
       "17     5.893654\n",
       "18     5.893654\n",
       "19     5.893654\n",
       "20     5.893654\n",
       "21     5.893654\n",
       "22     8.838432\n",
       "23     8.838432\n",
       "24     8.838432\n",
       "25     8.838432\n",
       "26    11.784772\n",
       "27    11.784772\n",
       "28    11.784772\n",
       "29    11.784772\n",
       "30    11.784772\n",
       "31    11.784772\n",
       "32    11.784772\n",
       "33    11.784772\n",
       "34    14.732120\n",
       "35    14.732120\n",
       "36    14.732120\n",
       "37    14.732120\n",
       "38    17.681588\n",
       "39    17.681588\n",
       "40    17.681588\n",
       "41    17.681588\n",
       "42    17.681588\n",
       "43    20.632064\n",
       "44    20.632064\n",
       "45    20.632064\n",
       "46    20.632064\n",
       "47    20.632064\n",
       "48          NaN\n",
       "Name: height, dtype: float64"
      ]
     },
     "execution_count": 13,
     "metadata": {},
     "output_type": "execute_result"
    }
   ],
   "source": [
    "weather_df['height']"
   ]
  },
  {
   "cell_type": "code",
   "execution_count": 16,
   "metadata": {},
   "outputs": [
    {
     "name": "stdout",
     "output_type": "stream",
     "text": [
      "The building height is 20.63 m +/- 7.21\n"
     ]
    }
   ],
   "source": [
    "N = len(weather_df['height'])\n",
    "z_error = weather_df['height'].std()\n",
    "\n",
    "print(f\"The building height is {weather_df['height'].iloc[-2]:2.2f} m +/- {z_error:2.2f}\")"
   ]
  },
  {
   "cell_type": "code",
   "execution_count": null,
   "metadata": {},
   "outputs": [],
   "source": []
  }
 ],
 "metadata": {
  "kernelspec": {
   "display_name": "climate_py39",
   "language": "python",
   "name": "python3"
  },
  "language_info": {
   "codemirror_mode": {
    "name": "ipython",
    "version": 3
   },
   "file_extension": ".py",
   "mimetype": "text/x-python",
   "name": "python",
   "nbconvert_exporter": "python",
   "pygments_lexer": "ipython3",
   "version": "3.11.4"
  },
  "orig_nbformat": 4
 },
 "nbformat": 4,
 "nbformat_minor": 2
}
