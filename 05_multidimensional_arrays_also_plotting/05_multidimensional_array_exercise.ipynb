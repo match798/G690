{
 "cells": [
  {
   "cell_type": "markdown",
   "metadata": {},
   "source": [
    "# Multidimensional Array Exercise\n",
    "\n",
    "In this exercise, you will apply the principles of using multidimensional arrays to estimate global mean temperature from a gridded dataset, accounting for the fact that grid cells become smaller at the poles.\n",
    "\n",
    "In a dataset with evenly spaced latitude and longitude values, the meridians converge at the poles, making the cells smaller.  The area of the cells is proportional to the cosine of the latitude $\\theta$ (in radians):\n",
    "\n",
    "$$ \\Delta A = R_{\\oplus}^2 \\Delta \\theta \\Delta \\phi \\cdot \\cos(\\theta) $$\n",
    "$$ \\Delta A \\propto \\cos(\\theta)$$\n",
    "\n",
    "Therefore, when calculating the global average of a quantity (like temperature), the values need to be weighted by $\\cos(\\theta)$.\n",
    "\n",
    "**Goal**: correctly calculate a timeseries of global mean temperature from the dataset below\n",
    "\n",
    "Instructions:\n",
    "\n",
    "1. execute the cell below to download the dataset (this is the one we used to make sound in the first class)\n",
    "1. the cell includes code to extract the latitude values (in degrees; `lat`) and the temperature field `temp_3d` as numpy arrays\n",
    "1. calculate and plot a timeseries of global mean temperature, using the $cos(\\theta)$ weighting"
   ]
  },
  {
   "cell_type": "code",
   "execution_count": 1,
   "metadata": {},
   "outputs": [],
   "source": [
    "\"\"\" Read in the data \"\"\"\n",
    "import xarray as xr\n",
    "\n",
    "# set the year we want to download\n",
    "year = 1983 \n",
    "# set the URL for the NCEP/DOE Reanalysis 2 data file\n",
    "url = f\"https://psl.noaa.gov/thredds/fileServer/Datasets/ncep.reanalysis2/gaussian_grid/air.2m.gauss.{year}.nc\"\n",
    "\n",
    "# set the name of the file we want to download to\n",
    "output_file = f\"air.2m.gauss.{year}.nc\"\n",
    "\n",
    "# download the data file\n",
    "# NOTE: the use of ! at the beginning of the line indicates that this is a shell command, not python code -- though it does use some python code.  How, why?\n",
    "# check first if the file exists; don't re-download if it does\n",
    "import os\n",
    "if not os.path.exists(output_file):\n",
    "    ! curl --output {output_file} {url}\n",
    "\n",
    "# (a side note for anyone familiar with xarray: you might ask why I don't use xarray to directly open the file from the URL (or the related OpenDAP URL)?  The reason is that it takes several minutes to open this 55 MB file, whereas directly downloading it takes only a couple seconds!)\n",
    "\n",
    "# open the dataset using xarray\n",
    "temp_ds = xr.open_dataset(output_file, chunks = -1)\n",
    "\n",
    "# get the latitude and temperature values as numpy arrays\n",
    "lat = temp_ds.lat.values\n",
    "temp_3d = temp_ds.air.values"
   ]
  },
  {
   "cell_type": "code",
   "execution_count": 2,
   "metadata": {},
   "outputs": [
    {
     "name": "stdout",
     "output_type": "stream",
     "text": [
      "<class 'numpy.ndarray'>\n",
      "(94,)\n",
      "[ 88.542     86.6531    84.7532    82.8508    80.9473    79.0435\n",
      "  77.1394    75.2351    73.3307    71.4262    69.5217    67.6171\n",
      "  65.7125    63.8079    61.9033    59.9986    58.0939    56.1893\n",
      "  54.2846    52.3799    50.4752    48.5705    46.6658    44.7611\n",
      "  42.8564    40.9517    39.047     37.1422    35.2375    33.3328\n",
      "  31.4281    29.5234    27.6186    25.7139    23.8092    21.9044\n",
      "  19.9997    18.095     16.1902    14.2855    12.3808    10.47604\n",
      "   8.57131    6.66657    4.76184    2.8571     0.952368  -0.952368\n",
      "  -2.8571    -4.76184   -6.66657   -8.57131  -10.47604  -12.3808\n",
      " -14.2855   -16.1902   -18.095    -19.9997   -21.9044   -23.8092\n",
      " -25.7139   -27.6186   -29.5234   -31.4281   -33.3328   -35.2375\n",
      " -37.1422   -39.047    -40.9517   -42.8564   -44.7611   -46.6658\n",
      " -48.5705   -50.4752   -52.3799   -54.2846   -56.1893   -58.0939\n",
      " -59.9986   -61.9033   -63.8079   -65.7125   -67.6171   -69.5217\n",
      " -71.4262   -73.3307   -75.2351   -77.1394   -79.0435   -80.9473\n",
      " -82.8508   -84.7532   -86.6531   -88.542   ]\n",
      "<class 'numpy.ndarray'>\n",
      "(1460, 1, 94, 192)\n",
      "[[[[251.12    251.06    251.02    ... 251.22    251.18    251.14   ]\n",
      "   [255.34    255.34    255.36    ... 255.25    255.28    255.3    ]\n",
      "   [259.44    259.66    259.83002 ... 258.41    258.81    259.15   ]\n",
      "   ...\n",
      "   [251.77    251.47    251.16    ... 252.69    252.38    252.06999]\n",
      "   [249.09999 248.88    248.66    ... 249.77    249.54    249.31999]\n",
      "   [247.26    247.15    247.05    ... 247.58    247.47    247.36   ]]]\n",
      "\n",
      "\n",
      " [[[248.93    248.88    248.9     ... 248.94    248.91    248.9    ]\n",
      "   [254.37    254.34999 254.31999 ... 254.34    254.36    254.37   ]\n",
      "   [260.13    260.02002 259.87    ... 260.41    260.36    260.26   ]\n",
      "   ...\n",
      "   [253.98    253.73    253.47    ... 254.76    254.5     254.24   ]\n",
      "   [250.68    250.49    250.31    ... 251.24    251.05    250.87   ]\n",
      "   [247.79    247.7     247.61    ... 248.06999 247.98    247.89   ]]]\n",
      "\n",
      "\n",
      " [[[248.02    248.02    248.06999 ... 247.9     247.92    247.95   ]\n",
      "   [252.59    252.62    252.64    ... 252.45999 252.5     252.55   ]\n",
      "   [256.46    256.41    256.34998 ... 256.58002 256.56    256.51   ]\n",
      "   ...\n",
      "   [255.13    254.78    254.42    ... 256.14    255.81    255.47   ]\n",
      "   [251.77    251.55    251.31999 ... 252.43    252.20999 251.99   ]\n",
      "   [248.61    248.5     248.39    ... 248.93    248.81999 248.70999]]]\n",
      "\n",
      "\n",
      " ...\n",
      "\n",
      "\n",
      " [[[253.26    253.42    253.49    ... 252.98    253.11    253.23   ]\n",
      "   [253.38    253.56    253.72    ... 252.74    252.95999 253.18   ]\n",
      "   [253.56999 253.70999 253.87    ... 252.99    253.17    253.37   ]\n",
      "   ...\n",
      "   [247.24    247.09    246.95    ... 247.76    247.56999 247.4    ]\n",
      "   [244.14    244.09    244.04    ... 244.34    244.27    244.2    ]\n",
      "   [244.69    244.67    244.66    ... 244.79    244.75    244.70999]]]\n",
      "\n",
      "\n",
      " [[[257.15    257.21    257.11    ... 257.16998 257.21    257.22   ]\n",
      "   [257.45    257.44    257.4     ... 257.34    257.39    257.44   ]\n",
      "   [256.28    256.18    256.07    ... 256.33002 256.33002 256.31   ]\n",
      "   ...\n",
      "   [247.4     247.14    246.88    ... 248.22    247.94    247.67   ]\n",
      "   [244.44    244.31999 244.20999 ... 244.81999 244.69    244.56   ]\n",
      "   [244.29    244.26    244.23    ... 244.43    244.38    244.33   ]]]\n",
      "\n",
      "\n",
      " [[[257.27002 257.27002 257.2     ... 257.41    257.4     257.37   ]\n",
      "   [256.7     256.66    256.61    ... 256.63    256.66998 256.7    ]\n",
      "   [254.84999 254.81    254.78    ... 254.5     254.67    254.78   ]\n",
      "   ...\n",
      "   [243.68    243.55    243.4     ... 244.01    243.9     243.79   ]\n",
      "   [242.7     242.52    242.34    ... 243.28    243.08    242.89   ]\n",
      "   [243.47    243.41    243.36    ... 243.68    243.61    243.54   ]]]]\n"
     ]
    }
   ],
   "source": [
    "# explore the arrays: type, shape and values\n",
    "print(type(lat))\n",
    "print(lat.shape)\n",
    "print(lat)\n",
    "print(type(temp_3d))\n",
    "print(temp_3d.shape)\n",
    "print(temp_3d)"
   ]
  },
  {
   "cell_type": "code",
   "execution_count": 3,
   "metadata": {},
   "outputs": [
    {
     "name": "stdout",
     "output_type": "stream",
     "text": [
      "(1460, 94, 192)\n"
     ]
    }
   ],
   "source": [
    "# remove the unnecessary dimension of size 1\n",
    "temp_3d = temp_3d.squeeze()\n",
    "print(temp_3d.shape)"
   ]
  },
  {
   "cell_type": "code",
   "execution_count": 4,
   "metadata": {},
   "outputs": [],
   "source": [
    "# import libraries needed\n",
    "import numpy as np\n",
    "import matplotlib.pyplot as plt"
   ]
  },
  {
   "cell_type": "code",
   "execution_count": 5,
   "metadata": {},
   "outputs": [
    {
     "name": "stdout",
     "output_type": "stream",
     "text": [
      "(94,)\n",
      "[0.02544422 0.0583812  0.09144609 0.12445362 0.15734279 0.19006358\n",
      " 0.22257979 0.25485343 0.28684726 0.31852594 0.3498527  0.38079438\n",
      " 0.41131556 0.44138214 0.47096106 0.5000211  0.5285287  0.5564508\n",
      " 0.5837595  0.610423   0.63641214 0.661698   0.68625265 0.710049\n",
      " 0.7330607  0.75526243 0.77662945 0.79713947 0.81676745 0.8354929\n",
      " 0.85329515 0.8701545  0.88605314 0.9009718  0.9148949  0.9278076\n",
      " 0.9396944  0.95054287 0.9603414  0.9690782  0.9767442  0.983331\n",
      " 0.98883116 0.99323857 0.99654835 0.99875695 0.99986184 0.99986184\n",
      " 0.99875695 0.99654835 0.99323857 0.98883116 0.983331   0.9767442\n",
      " 0.9690782  0.9603414  0.95054287 0.9396944  0.9278076  0.9148949\n",
      " 0.9009718  0.88605314 0.8701545  0.85329515 0.8354929  0.81676745\n",
      " 0.79713947 0.77662945 0.75526243 0.7330607  0.710049   0.68625265\n",
      " 0.661698   0.63641214 0.610423   0.5837595  0.5564508  0.5285287\n",
      " 0.5000211  0.47096106 0.44138214 0.41131556 0.38079438 0.3498527\n",
      " 0.31852594 0.28684726 0.25485343 0.22257979 0.19006358 0.15734279\n",
      " 0.12445362 0.09144609 0.0583812  0.02544422]\n",
      "(94,)\n",
      "[0.00042291 0.00097036 0.00151993 0.00206855 0.0026152  0.00315906\n",
      " 0.00369951 0.00423593 0.0047677  0.00529424 0.00581492 0.0063292\n",
      " 0.0068365  0.00733623 0.00782787 0.00831088 0.0087847  0.0092488\n",
      " 0.0097027  0.01014587 0.01057784 0.01099812 0.01140624 0.01180176\n",
      " 0.01218424 0.01255326 0.0129084  0.01324929 0.01357553 0.01388677\n",
      " 0.01418266 0.01446288 0.01472713 0.0149751  0.01520651 0.01542114\n",
      " 0.01561871 0.01579902 0.01596188 0.0161071  0.01623451 0.01634399\n",
      " 0.01643541 0.01650867 0.01656368 0.01660039 0.01661875 0.01661875\n",
      " 0.01660039 0.01656368 0.01650867 0.01643541 0.01634399 0.01623451\n",
      " 0.0161071  0.01596188 0.01579902 0.01561871 0.01542114 0.01520651\n",
      " 0.0149751  0.01472713 0.01446288 0.01418266 0.01388677 0.01357553\n",
      " 0.01324929 0.0129084  0.01255326 0.01218424 0.01180176 0.01140624\n",
      " 0.01099812 0.01057784 0.01014587 0.0097027  0.0092488  0.0087847\n",
      " 0.00831088 0.00782787 0.00733623 0.0068365  0.0063292  0.00581492\n",
      " 0.00529424 0.0047677  0.00423593 0.00369951 0.00315906 0.0026152\n",
      " 0.00206855 0.00151993 0.00097036 0.00042291]\n"
     ]
    }
   ],
   "source": [
    "# calculate the cos of all latitude values\n",
    "weight_factors = np.cos(np.deg2rad(lat))\n",
    "print(weight_factors.shape)\n",
    "print(weight_factors)\n",
    "\n",
    "# convert the cos values to weights\n",
    "weight_factors = weight_factors/weight_factors.sum()\n",
    "print(weight_factors.shape)\n",
    "print(weight_factors)"
   ]
  },
  {
   "cell_type": "code",
   "execution_count": 6,
   "metadata": {},
   "outputs": [
    {
     "name": "stdout",
     "output_type": "stream",
     "text": [
      "(1, 94, 1)\n",
      "[[[0.00042291]\n",
      "  [0.00097036]\n",
      "  [0.00151993]\n",
      "  [0.00206855]\n",
      "  [0.0026152 ]\n",
      "  [0.00315906]\n",
      "  [0.00369951]\n",
      "  [0.00423593]\n",
      "  [0.0047677 ]\n",
      "  [0.00529424]\n",
      "  [0.00581492]\n",
      "  [0.0063292 ]\n",
      "  [0.0068365 ]\n",
      "  [0.00733623]\n",
      "  [0.00782787]\n",
      "  [0.00831088]\n",
      "  [0.0087847 ]\n",
      "  [0.0092488 ]\n",
      "  [0.0097027 ]\n",
      "  [0.01014587]\n",
      "  [0.01057784]\n",
      "  [0.01099812]\n",
      "  [0.01140624]\n",
      "  [0.01180176]\n",
      "  [0.01218424]\n",
      "  [0.01255326]\n",
      "  [0.0129084 ]\n",
      "  [0.01324929]\n",
      "  [0.01357553]\n",
      "  [0.01388677]\n",
      "  [0.01418266]\n",
      "  [0.01446288]\n",
      "  [0.01472713]\n",
      "  [0.0149751 ]\n",
      "  [0.01520651]\n",
      "  [0.01542114]\n",
      "  [0.01561871]\n",
      "  [0.01579902]\n",
      "  [0.01596188]\n",
      "  [0.0161071 ]\n",
      "  [0.01623451]\n",
      "  [0.01634399]\n",
      "  [0.01643541]\n",
      "  [0.01650867]\n",
      "  [0.01656368]\n",
      "  [0.01660039]\n",
      "  [0.01661875]\n",
      "  [0.01661875]\n",
      "  [0.01660039]\n",
      "  [0.01656368]\n",
      "  [0.01650867]\n",
      "  [0.01643541]\n",
      "  [0.01634399]\n",
      "  [0.01623451]\n",
      "  [0.0161071 ]\n",
      "  [0.01596188]\n",
      "  [0.01579902]\n",
      "  [0.01561871]\n",
      "  [0.01542114]\n",
      "  [0.01520651]\n",
      "  [0.0149751 ]\n",
      "  [0.01472713]\n",
      "  [0.01446288]\n",
      "  [0.01418266]\n",
      "  [0.01388677]\n",
      "  [0.01357553]\n",
      "  [0.01324929]\n",
      "  [0.0129084 ]\n",
      "  [0.01255326]\n",
      "  [0.01218424]\n",
      "  [0.01180176]\n",
      "  [0.01140624]\n",
      "  [0.01099812]\n",
      "  [0.01057784]\n",
      "  [0.01014587]\n",
      "  [0.0097027 ]\n",
      "  [0.0092488 ]\n",
      "  [0.0087847 ]\n",
      "  [0.00831088]\n",
      "  [0.00782787]\n",
      "  [0.00733623]\n",
      "  [0.0068365 ]\n",
      "  [0.0063292 ]\n",
      "  [0.00581492]\n",
      "  [0.00529424]\n",
      "  [0.0047677 ]\n",
      "  [0.00423593]\n",
      "  [0.00369951]\n",
      "  [0.00315906]\n",
      "  [0.0026152 ]\n",
      "  [0.00206855]\n",
      "  [0.00151993]\n",
      "  [0.00097036]\n",
      "  [0.00042291]]]\n"
     ]
    }
   ],
   "source": [
    "# add more dimensions to the weights so that it is conformant with the temp array\n",
    "weight_factors_3d = weight_factors[np.newaxis, :, np.newaxis]\n",
    "print(weight_factors_3d.shape)\n",
    "print(weight_factors_3d)"
   ]
  },
  {
   "cell_type": "code",
   "execution_count": 9,
   "metadata": {},
   "outputs": [
    {
     "name": "stdout",
     "output_type": "stream",
     "text": [
      "(1460, 94, 192)\n",
      "[[[0.10620108 0.10617571 0.1061588  ... 0.10624338 0.10622646 0.10620955]\n",
      "  [0.24777092 0.24777092 0.24779034 ... 0.24768358 0.2477127  0.24773212]\n",
      "  [0.39433068 0.3946651  0.39492348 ... 0.39276516 0.39337313 0.3938899 ]\n",
      "  ...\n",
      "  [0.38267285 0.38221684 0.38174567 ... 0.38407117 0.3836     0.3831288 ]\n",
      "  [0.2417159  0.24150242 0.24128895 ... 0.24236605 0.24214284 0.24192937]\n",
      "  [0.10456865 0.10452213 0.10447984 ... 0.10470399 0.10465746 0.10461095]]\n",
      "\n",
      " [[0.10527491 0.10525377 0.10526223 ... 0.10527915 0.10526646 0.10526223]\n",
      "  [0.24682967 0.24681026 0.24678116 ... 0.24680056 0.24681997 0.24682967]\n",
      "  [0.39537945 0.3952123  0.39498425 ... 0.39580503 0.395729   0.39557704]\n",
      "  ...\n",
      "  [0.38603187 0.3856519  0.3852567  ... 0.3872174  0.38682222 0.38642707]\n",
      "  [0.24324906 0.2430647  0.24289003 ... 0.24379246 0.24360809 0.24343342]\n",
      "  [0.1047928  0.10475473 0.10471667 ... 0.10491121 0.10487315 0.10483509]]\n",
      "\n",
      " [[0.10489007 0.10489007 0.10491121 ... 0.10483932 0.10484777 0.10486046]\n",
      "  [0.24510244 0.24513155 0.24515095 ... 0.24497628 0.24501511 0.24506363]\n",
      "  [0.3898013  0.3897253  0.38963407 ... 0.3899837  0.3899533  0.38987732]\n",
      "  ...\n",
      "  [0.3877798  0.3872478  0.38670063 ... 0.38931495 0.38881335 0.38829657]\n",
      "  [0.24430676 0.24409327 0.24387008 ... 0.24494718 0.24473369 0.24452023]\n",
      "  [0.10513958 0.10509306 0.10504654 ... 0.10527491 0.10522839 0.10518187]]\n",
      "\n",
      " ...\n",
      "\n",
      " [[0.10710611 0.10717378 0.10720339 ... 0.1069877  0.10704268 0.10709342]\n",
      "  [0.24586903 0.24604368 0.24619895 ... 0.245248   0.24546146 0.24567494]\n",
      "  [0.3854087  0.3856215  0.38586468 ... 0.38452715 0.38480073 0.38510472]\n",
      "  ...\n",
      "  [0.37578756 0.37555954 0.37534675 ... 0.37657788 0.3762891  0.3760307 ]\n",
      "  [0.23690292 0.2368544  0.23680589 ... 0.237097   0.23702908 0.23696114]\n",
      "  [0.10348178 0.10347332 0.10346909 ... 0.10352407 0.10350715 0.10349023]]\n",
      "\n",
      " [[0.10875123 0.10877661 0.10873431 ... 0.10875969 0.10877661 0.10878084]\n",
      "  [0.24981838 0.24980867 0.24976985 ... 0.24971163 0.24976017 0.24980867]\n",
      "  [0.3895277  0.38937572 0.38920853 ... 0.38960373 0.38960373 0.3895733 ]\n",
      "  ...\n",
      "  [0.3760307  0.37563553 0.3752404  ... 0.37727708 0.3768515  0.37644112]\n",
      "  [0.23719403 0.23707758 0.23697084 ... 0.23756276 0.23743662 0.23731047]\n",
      "  [0.10331261 0.10329992 0.10328723 ... 0.10337181 0.10335068 0.10332953]]\n",
      "\n",
      " [[0.10880199 0.10880199 0.10877238 ... 0.10886119 0.10885695 0.10884427]\n",
      "  [0.24909061 0.2490518  0.24900326 ... 0.24902269 0.24906148 0.24909061]\n",
      "  [0.3873542  0.3872934  0.3872478  ... 0.38682222 0.3870806  0.3872478 ]\n",
      "  ...\n",
      "  [0.3703766  0.370179   0.369951   ... 0.37087816 0.37071097 0.37054378]\n",
      "  [0.23550561 0.23533095 0.23515628 ... 0.23606841 0.23587435 0.23568998]\n",
      "  [0.10296582 0.10294046 0.10291931 ... 0.10305464 0.10302503 0.10299543]]]\n"
     ]
    }
   ],
   "source": [
    "# calculate the weighted temperature across all dimensions\n",
    "weighted_temp_3d = weight_factors_3d*temp_3d\n",
    "print(weighted_temp_3d.shape)\n",
    "print(weighted_temp_3d)"
   ]
  },
  {
   "cell_type": "code",
   "execution_count": 10,
   "metadata": {},
   "outputs": [
    {
     "name": "stdout",
     "output_type": "stream",
     "text": [
      "(1460, 192)\n",
      "[[285.4794  285.4778  285.32477 ... 285.73022 285.59146 285.44934]\n",
      " [287.4783  287.54913 287.37683 ... 287.4504  287.40332 287.56284]\n",
      " [287.50998 287.50485 287.20938 ... 287.7558  287.54666 287.59018]\n",
      " ...\n",
      " [287.3301  287.35892 287.3933  ... 287.0995  287.03937 287.19995]\n",
      " [287.1726  287.20056 286.9919  ... 287.44528 287.27505 287.2125 ]\n",
      " [285.16855 285.3073  285.31146 ... 285.23917 285.28757 285.215  ]]\n"
     ]
    }
   ],
   "source": [
    "# calculate the weighted average over latitudes\n",
    "weighted_temp_2d = np.sum(weighted_temp_3d, axis=1)\n",
    "print(weighted_temp_2d.shape)\n",
    "print(weighted_temp_2d)"
   ]
  },
  {
   "cell_type": "code",
   "execution_count": 11,
   "metadata": {},
   "outputs": [
    {
     "name": "stdout",
     "output_type": "stream",
     "text": [
      "(1460,)\n",
      "[285.7089  286.12994 285.9769  ... 285.921   285.55893 285.22366]\n"
     ]
    }
   ],
   "source": [
    "# calculate the average over longitudes\n",
    "weighted_temp_global = np.mean(weighted_temp_2d, axis=1)\n",
    "print(weighted_temp_global.shape)\n",
    "print(weighted_temp_global)"
   ]
  },
  {
   "cell_type": "code",
   "execution_count": 12,
   "metadata": {},
   "outputs": [
    {
     "data": {
      "image/png": "[encoded data removed]",
      "text/plain": [
       "<Figure size 1500x500 with 1 Axes>"
      ]
     },
     "metadata": {},
     "output_type": "display_data"
    }
   ],
   "source": [
    "# plot the global mean tempreature over time\n",
    "fig, ax = plt.subplots(figsize=(15,5))\n",
    "plt.plot(weighted_temp_global)\n",
    "ax.set_xlabel(\"Time\")\n",
    "ax.set_ylabel(\"Global mean temperature\")\n",
    "plt.show()"
   ]
  },
  {
   "cell_type": "code",
   "execution_count": null,
   "metadata": {},
   "outputs": [],
   "source": []
  }
 ],
 "metadata": {
  "kernelspec": {
   "display_name": "climate_py39",
   "language": "python",
   "name": "python3"
  },
  "language_info": {
   "codemirror_mode": {
    "name": "ipython",
    "version": 3
   },
   "file_extension": ".py",
   "mimetype": "text/x-python",
   "name": "python",
   "nbconvert_exporter": "python",
   "pygments_lexer": "ipython3",
   "version": "3.11.4"
  },
  "orig_nbformat": 4
 },
 "nbformat": 4,
 "nbformat_minor": 2
}
