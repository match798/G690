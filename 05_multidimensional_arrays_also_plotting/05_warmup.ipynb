{
  "cells": [
    {
      "cell_type": "markdown",
      "metadata": {
        "id": "QsRamKVhCNhX"
      },
      "source": [
        "<a target=\"_blank\" href=\"https://colab.research.google.com/github/taobrienlbl/advanced_earth_science_data_analysis/blob/spring_2023_iub/lessons/05_multidimensional_arrays_also_plotting/05_warmup.ipynb\">\n",
        "  <img src=\"https://colab.research.google.com/assets/colab-badge.svg\" alt=\"Open In Colab\"/>\n",
        "</a>\n",
        "\n",
        "# WARMUP | Lesson 05\n",
        "\n",
        "**Goal**: Plot a timeseries of the annual average number of magnitude 6 (or larger) earthquakes.\n",
        "\n",
        "In this warmup, you will demonstrate your proficiency in using `pandas` and `matplotlib` for scientific data analysis in a Jupyter notebook.  I am intentionally not providing much guidance in this exercise, leaving it to you to determine the best path to the goal.  That said, I do have some specific instructions:\n",
        "\n",
        "* download [this CSV](https://raw.githubusercontent.com/taobrienlbl/advanced_earth_science_data_analysis/spring_2023_iub/lessons/05_multidimensional_arrays_also_plotting/data/usgs_major_earthquakes_1900-2023.csv) file containing a dataset of all earthquakes greater than magnitude 6 that USGS has on record since 1900\n",
        "* utilize Markdown cells extensively to document your thought process, including notes about the CSV file, its origin, etc.\n",
        "* comment your code extensively\n",
        "* use git to stage/commit/push this notebook to your course github repository once done (in a lesson 04 folder)\n",
        "* bonus: if you still have time, also make a plot of # of earthquakes vs month (the seasonal cycle, if there is one)\n",
        "\n",
        "A note about the CSV file: I obtained it from [a USGS query for magnitude 6 or larger earthquakes globally since 1900](https://earthquake.usgs.gov/earthquakes/map/?extent=-88.71618,-248.20313&extent=88.70033,336.79688&range=search&timeZone=utc&search=%7B%22name%22:%22Search%20Results%22,%22params%22:%7B%22starttime%22:%221900-01-01%2000:00:00%22,%22endtime%22:%222023-09-22%2023:59:59%22,%22minmagnitude%22:6,%22orderby%22:%22time%22%7D%7D) on Friday September 22, 2023 at 10:20am Eastern.  Though USGS ultimately was the source of the data, my search originated from an [NCEI website](https://www.ngdc.noaa.gov/hazel/view/hazards/earthquake/search).  (See the markdown source of this cell for the specific URLs; the USGS query URL contains the specific query parameters.)\n",
        "\n",
        "I used the CSV download option provided on the website, and the file was downloaded as `query.csv`; I renamed the file to `usgs_major_earthquakes_1900-2023.csv`.\n",
        "\n",
        "When I download data like this from a web source, I'll often put it in a `data` folder somewhere and will place a `README` (or `README.md`) file in the `data` directory to give information about where I downloaded the data from and any citations that the data provider requests that I use.  I do this because I often come back to datasets like this later on and it isn't always straightforward to find this information after the fact."
      ]
    },
    {
      "cell_type": "markdown",
      "metadata": {
        "id": "cpNZJ-OaCNhZ"
      },
      "source": [
        "# Solution\n",
        "\n",
        "*start you markdown comments here*"
      ]
    },
    {
      "cell_type": "code",
      "execution_count": 1,
      "metadata": {
        "id": "TsGBisHcCNha"
      },
      "outputs": [],
      "source": [
        "# import libraries\n",
        "import numpy as np\n",
        "import matplotlib.pyplot as plt\n",
        "import pandas as pd"
      ]
    },
    {
      "cell_type": "code",
      "execution_count": 2,
      "metadata": {},
      "outputs": [
        {
          "data": {
            "text/html": [
              "<div>\n",
              "<style scoped>\n",
              "    .dataframe tbody tr th:only-of-type {\n",
              "        vertical-align: middle;\n",
              "    }\n",
              "\n",
              "    .dataframe tbody tr th {\n",
              "        vertical-align: top;\n",
              "    }\n",
              "\n",
              "    .dataframe thead th {\n",
              "        text-align: right;\n",
              "    }\n",
              "</style>\n",
              "<table border=\"1\" class=\"dataframe\">\n",
              "  <thead>\n",
              "    <tr style=\"text-align: right;\">\n",
              "      <th></th>\n",
              "      <th>time</th>\n",
              "      <th>latitude</th>\n",
              "      <th>longitude</th>\n",
              "      <th>depth</th>\n",
              "      <th>mag</th>\n",
              "      <th>magType</th>\n",
              "      <th>nst</th>\n",
              "      <th>gap</th>\n",
              "      <th>dmin</th>\n",
              "      <th>rms</th>\n",
              "      <th>...</th>\n",
              "      <th>updated</th>\n",
              "      <th>place</th>\n",
              "      <th>type</th>\n",
              "      <th>horizontalError</th>\n",
              "      <th>depthError</th>\n",
              "      <th>magError</th>\n",
              "      <th>magNst</th>\n",
              "      <th>status</th>\n",
              "      <th>locationSource</th>\n",
              "      <th>magSource</th>\n",
              "    </tr>\n",
              "  </thead>\n",
              "  <tbody>\n",
              "    <tr>\n",
              "      <th>0</th>\n",
              "      <td>2023-09-21T21:11:49.950Z</td>\n",
              "      <td>-14.0039</td>\n",
              "      <td>167.1898</td>\n",
              "      <td>188.419</td>\n",
              "      <td>6.1</td>\n",
              "      <td>mww</td>\n",
              "      <td>76.0</td>\n",
              "      <td>26.0</td>\n",
              "      <td>7.076</td>\n",
              "      <td>0.83</td>\n",
              "      <td>...</td>\n",
              "      <td>2023-09-21T23:17:30.631Z</td>\n",
              "      <td>41 km WSW of Sola, Vanuatu</td>\n",
              "      <td>earthquake</td>\n",
              "      <td>8.86</td>\n",
              "      <td>4.898</td>\n",
              "      <td>0.054</td>\n",
              "      <td>33.0</td>\n",
              "      <td>reviewed</td>\n",
              "      <td>us</td>\n",
              "      <td>us</td>\n",
              "    </tr>\n",
              "    <tr>\n",
              "      <th>1</th>\n",
              "      <td>2023-09-20T14:45:58.609Z</td>\n",
              "      <td>-4.5826</td>\n",
              "      <td>-105.6493</td>\n",
              "      <td>10.000</td>\n",
              "      <td>6.0</td>\n",
              "      <td>mww</td>\n",
              "      <td>110.0</td>\n",
              "      <td>208.0</td>\n",
              "      <td>15.828</td>\n",
              "      <td>1.08</td>\n",
              "      <td>...</td>\n",
              "      <td>2023-09-21T21:02:41.950Z</td>\n",
              "      <td>central East Pacific Rise</td>\n",
              "      <td>earthquake</td>\n",
              "      <td>14.99</td>\n",
              "      <td>1.952</td>\n",
              "      <td>0.050</td>\n",
              "      <td>38.0</td>\n",
              "      <td>reviewed</td>\n",
              "      <td>us</td>\n",
              "      <td>us</td>\n",
              "    </tr>\n",
              "    <tr>\n",
              "      <th>2</th>\n",
              "      <td>2023-09-18T13:21:23.790Z</td>\n",
              "      <td>26.4336</td>\n",
              "      <td>125.3032</td>\n",
              "      <td>183.483</td>\n",
              "      <td>6.3</td>\n",
              "      <td>mww</td>\n",
              "      <td>113.0</td>\n",
              "      <td>35.0</td>\n",
              "      <td>2.262</td>\n",
              "      <td>1.21</td>\n",
              "      <td>...</td>\n",
              "      <td>2023-09-19T13:29:35.504Z</td>\n",
              "      <td>180 km N of Hirara, Japan</td>\n",
              "      <td>earthquake</td>\n",
              "      <td>6.53</td>\n",
              "      <td>4.942</td>\n",
              "      <td>0.044</td>\n",
              "      <td>49.0</td>\n",
              "      <td>reviewed</td>\n",
              "      <td>us</td>\n",
              "      <td>us</td>\n",
              "    </tr>\n",
              "    <tr>\n",
              "      <th>3</th>\n",
              "      <td>2023-09-13T11:49:15.926Z</td>\n",
              "      <td>-36.2201</td>\n",
              "      <td>-97.9378</td>\n",
              "      <td>10.000</td>\n",
              "      <td>6.1</td>\n",
              "      <td>mww</td>\n",
              "      <td>117.0</td>\n",
              "      <td>37.0</td>\n",
              "      <td>13.309</td>\n",
              "      <td>0.65</td>\n",
              "      <td>...</td>\n",
              "      <td>2023-09-14T11:52:11.466Z</td>\n",
              "      <td>West Chile Rise</td>\n",
              "      <td>earthquake</td>\n",
              "      <td>10.28</td>\n",
              "      <td>1.860</td>\n",
              "      <td>0.050</td>\n",
              "      <td>39.0</td>\n",
              "      <td>reviewed</td>\n",
              "      <td>us</td>\n",
              "      <td>us</td>\n",
              "    </tr>\n",
              "    <tr>\n",
              "      <th>4</th>\n",
              "      <td>2023-09-12T11:03:18.873Z</td>\n",
              "      <td>19.2687</td>\n",
              "      <td>121.2178</td>\n",
              "      <td>41.281</td>\n",
              "      <td>6.3</td>\n",
              "      <td>mww</td>\n",
              "      <td>133.0</td>\n",
              "      <td>21.0</td>\n",
              "      <td>4.049</td>\n",
              "      <td>0.96</td>\n",
              "      <td>...</td>\n",
              "      <td>2023-09-18T13:59:24.715Z</td>\n",
              "      <td>73 km N of Namuac, Philippines</td>\n",
              "      <td>earthquake</td>\n",
              "      <td>8.03</td>\n",
              "      <td>5.112</td>\n",
              "      <td>0.046</td>\n",
              "      <td>46.0</td>\n",
              "      <td>reviewed</td>\n",
              "      <td>us</td>\n",
              "      <td>us</td>\n",
              "    </tr>\n",
              "  </tbody>\n",
              "</table>\n",
              "<p>5 rows × 22 columns</p>\n",
              "</div>"
            ],
            "text/plain": [
              "                       time  latitude  longitude    depth  mag magType    nst  \\\n",
              "0  2023-09-21T21:11:49.950Z  -14.0039   167.1898  188.419  6.1     mww   76.0   \n",
              "1  2023-09-20T14:45:58.609Z   -4.5826  -105.6493   10.000  6.0     mww  110.0   \n",
              "2  2023-09-18T13:21:23.790Z   26.4336   125.3032  183.483  6.3     mww  113.0   \n",
              "3  2023-09-13T11:49:15.926Z  -36.2201   -97.9378   10.000  6.1     mww  117.0   \n",
              "4  2023-09-12T11:03:18.873Z   19.2687   121.2178   41.281  6.3     mww  133.0   \n",
              "\n",
              "     gap    dmin   rms  ...                   updated  \\\n",
              "0   26.0   7.076  0.83  ...  2023-09-21T23:17:30.631Z   \n",
              "1  208.0  15.828  1.08  ...  2023-09-21T21:02:41.950Z   \n",
              "2   35.0   2.262  1.21  ...  2023-09-19T13:29:35.504Z   \n",
              "3   37.0  13.309  0.65  ...  2023-09-14T11:52:11.466Z   \n",
              "4   21.0   4.049  0.96  ...  2023-09-18T13:59:24.715Z   \n",
              "\n",
              "                            place        type horizontalError depthError  \\\n",
              "0      41 km WSW of Sola, Vanuatu  earthquake            8.86      4.898   \n",
              "1       central East Pacific Rise  earthquake           14.99      1.952   \n",
              "2       180 km N of Hirara, Japan  earthquake            6.53      4.942   \n",
              "3                 West Chile Rise  earthquake           10.28      1.860   \n",
              "4  73 km N of Namuac, Philippines  earthquake            8.03      5.112   \n",
              "\n",
              "   magError  magNst    status  locationSource magSource  \n",
              "0     0.054    33.0  reviewed              us        us  \n",
              "1     0.050    38.0  reviewed              us        us  \n",
              "2     0.044    49.0  reviewed              us        us  \n",
              "3     0.050    39.0  reviewed              us        us  \n",
              "4     0.046    46.0  reviewed              us        us  \n",
              "\n",
              "[5 rows x 22 columns]"
            ]
          },
          "execution_count": 2,
          "metadata": {},
          "output_type": "execute_result"
        }
      ],
      "source": [
        "# load the csv file\n",
        "earthquake_file = \"usgs_major_earthquakes_1900-2023.csv\"\n",
        "earthquake_df = pd.read_csv(earthquake_file)\n",
        "earthquake_df.head()"
      ]
    },
    {
      "cell_type": "code",
      "execution_count": 3,
      "metadata": {},
      "outputs": [
        {
          "name": "stdout",
          "output_type": "stream",
          "text": [
            "<class 'pandas.core.frame.DataFrame'>\n",
            "RangeIndex: 13927 entries, 0 to 13926\n",
            "Data columns (total 22 columns):\n",
            " #   Column           Non-Null Count  Dtype  \n",
            "---  ------           --------------  -----  \n",
            " 0   time             13927 non-null  object \n",
            " 1   latitude         13927 non-null  float64\n",
            " 2   longitude        13927 non-null  float64\n",
            " 3   depth            13873 non-null  float64\n",
            " 4   mag              13927 non-null  float64\n",
            " 5   magType          13927 non-null  object \n",
            " 6   nst              2371 non-null   float64\n",
            " 7   gap              3166 non-null   float64\n",
            " 8   dmin             1416 non-null   float64\n",
            " 9   rms              6283 non-null   float64\n",
            " 10  net              13927 non-null  object \n",
            " 11  id               13927 non-null  object \n",
            " 12  updated          13927 non-null  object \n",
            " 13  place            13808 non-null  object \n",
            " 14  type             13927 non-null  object \n",
            " 15  horizontalError  1273 non-null   float64\n",
            " 16  depthError       8750 non-null   float64\n",
            " 17  magError         7615 non-null   float64\n",
            " 18  magNst           1300 non-null   float64\n",
            " 19  status           13927 non-null  object \n",
            " 20  locationSource   13927 non-null  object \n",
            " 21  magSource        13927 non-null  object \n",
            "dtypes: float64(12), object(10)\n",
            "memory usage: 2.3+ MB\n"
          ]
        }
      ],
      "source": [
        "earthquake_df.info()"
      ]
    },
    {
      "cell_type": "code",
      "execution_count": 4,
      "metadata": {},
      "outputs": [
        {
          "data": {
            "text/plain": [
              "0       2023-09-21 21:11:49.950000+00:00\n",
              "1       2023-09-20 14:45:58.609000+00:00\n",
              "2       2023-09-18 13:21:23.790000+00:00\n",
              "3       2023-09-13 11:49:15.926000+00:00\n",
              "4       2023-09-12 11:03:18.873000+00:00\n",
              "                      ...               \n",
              "13922          1902-01-01 05:20:30+00:00\n",
              "13923          1901-12-31 09:02:30+00:00\n",
              "13924          1901-12-30 22:34:00+00:00\n",
              "13925          1901-03-03 07:45:00+00:00\n",
              "13926          1900-10-09 12:25:00+00:00\n",
              "Name: time, Length: 13927, dtype: datetime64[ns, UTC]"
            ]
          },
          "execution_count": 4,
          "metadata": {},
          "output_type": "execute_result"
        }
      ],
      "source": [
        "earthquake_df['time'] = pd.to_datetime(earthquake_df['time'])\n",
        "earthquake_df['time']"
      ]
    },
    {
      "cell_type": "code",
      "execution_count": 5,
      "metadata": {},
      "outputs": [
        {
          "data": {
            "text/plain": [
              "time\n",
              "1900      1\n",
              "1901      3\n",
              "1902      2\n",
              "1903      3\n",
              "1904      9\n",
              "       ... \n",
              "2019    145\n",
              "2020    121\n",
              "2021    157\n",
              "2022    127\n",
              "2023    103\n",
              "Name: mag, Length: 124, dtype: int64"
            ]
          },
          "execution_count": 5,
          "metadata": {},
          "output_type": "execute_result"
        }
      ],
      "source": [
        "earthquake_num_df = earthquake_df['mag'].groupby(earthquake_df['time'].dt.year).count()\n",
        "earthquake_num_df"
      ]
    },
    {
      "cell_type": "code",
      "execution_count": 6,
      "metadata": {},
      "outputs": [
        {
          "name": "stdout",
          "output_type": "stream",
          "text": [
            "<class 'pandas.core.series.Series'>\n",
            "Index: 124 entries, 1900 to 2023\n",
            "Series name: mag\n",
            "Non-Null Count  Dtype\n",
            "--------------  -----\n",
            "124 non-null    int64\n",
            "dtypes: int64(1)\n",
            "memory usage: 1.5 KB\n"
          ]
        }
      ],
      "source": [
        "earthquake_num_df.info()"
      ]
    },
    {
      "cell_type": "code",
      "execution_count": 7,
      "metadata": {},
      "outputs": [
        {
          "data": {
            "text/html": [
              "<div>\n",
              "<style scoped>\n",
              "    .dataframe tbody tr th:only-of-type {\n",
              "        vertical-align: middle;\n",
              "    }\n",
              "\n",
              "    .dataframe tbody tr th {\n",
              "        vertical-align: top;\n",
              "    }\n",
              "\n",
              "    .dataframe thead th {\n",
              "        text-align: right;\n",
              "    }\n",
              "</style>\n",
              "<table border=\"1\" class=\"dataframe\">\n",
              "  <thead>\n",
              "    <tr style=\"text-align: right;\">\n",
              "      <th></th>\n",
              "      <th>year</th>\n",
              "      <th>mag</th>\n",
              "    </tr>\n",
              "  </thead>\n",
              "  <tbody>\n",
              "    <tr>\n",
              "      <th>0</th>\n",
              "      <td>1900</td>\n",
              "      <td>1</td>\n",
              "    </tr>\n",
              "    <tr>\n",
              "      <th>1</th>\n",
              "      <td>1901</td>\n",
              "      <td>3</td>\n",
              "    </tr>\n",
              "    <tr>\n",
              "      <th>2</th>\n",
              "      <td>1902</td>\n",
              "      <td>2</td>\n",
              "    </tr>\n",
              "    <tr>\n",
              "      <th>3</th>\n",
              "      <td>1903</td>\n",
              "      <td>3</td>\n",
              "    </tr>\n",
              "    <tr>\n",
              "      <th>4</th>\n",
              "      <td>1904</td>\n",
              "      <td>9</td>\n",
              "    </tr>\n",
              "    <tr>\n",
              "      <th>...</th>\n",
              "      <td>...</td>\n",
              "      <td>...</td>\n",
              "    </tr>\n",
              "    <tr>\n",
              "      <th>119</th>\n",
              "      <td>2019</td>\n",
              "      <td>145</td>\n",
              "    </tr>\n",
              "    <tr>\n",
              "      <th>120</th>\n",
              "      <td>2020</td>\n",
              "      <td>121</td>\n",
              "    </tr>\n",
              "    <tr>\n",
              "      <th>121</th>\n",
              "      <td>2021</td>\n",
              "      <td>157</td>\n",
              "    </tr>\n",
              "    <tr>\n",
              "      <th>122</th>\n",
              "      <td>2022</td>\n",
              "      <td>127</td>\n",
              "    </tr>\n",
              "    <tr>\n",
              "      <th>123</th>\n",
              "      <td>2023</td>\n",
              "      <td>103</td>\n",
              "    </tr>\n",
              "  </tbody>\n",
              "</table>\n",
              "<p>124 rows × 2 columns</p>\n",
              "</div>"
            ],
            "text/plain": [
              "     year  mag\n",
              "0    1900    1\n",
              "1    1901    3\n",
              "2    1902    2\n",
              "3    1903    3\n",
              "4    1904    9\n",
              "..    ...  ...\n",
              "119  2019  145\n",
              "120  2020  121\n",
              "121  2021  157\n",
              "122  2022  127\n",
              "123  2023  103\n",
              "\n",
              "[124 rows x 2 columns]"
            ]
          },
          "execution_count": 7,
          "metadata": {},
          "output_type": "execute_result"
        }
      ],
      "source": [
        "earthquake_num_df = earthquake_num_df.rename_axis('year').reset_index()\n",
        "earthquake_num_df"
      ]
    },
    {
      "cell_type": "code",
      "execution_count": 8,
      "metadata": {},
      "outputs": [
        {
          "name": "stdout",
          "output_type": "stream",
          "text": [
            "<class 'pandas.core.frame.DataFrame'>\n",
            "RangeIndex: 124 entries, 0 to 123\n",
            "Data columns (total 2 columns):\n",
            " #   Column  Non-Null Count  Dtype\n",
            "---  ------  --------------  -----\n",
            " 0   year    124 non-null    int32\n",
            " 1   num     124 non-null    int64\n",
            "dtypes: int32(1), int64(1)\n",
            "memory usage: 1.6 KB\n"
          ]
        }
      ],
      "source": [
        "earthquake_num_df.rename(columns={'mag': 'num'}, inplace=True)\n",
        "earthquake_num_df.info()"
      ]
    },
    {
      "cell_type": "code",
      "execution_count": 9,
      "metadata": {},
      "outputs": [
        {
          "data": {
            "image/png": "[encoded data removed]",
            "text/plain": [
              "<Figure size 1500x500 with 1 Axes>"
            ]
          },
          "metadata": {},
          "output_type": "display_data"
        }
      ],
      "source": [
        "# plot the timeseries\n",
        "fig, ax = plt.subplots(figsize=(15,5))\n",
        "earthquake_num_df.plot(x='year', y='num', ax = ax)\n",
        "ax.set_xlabel(\"Year\")\n",
        "ax.set_ylabel(\"Number of earthquakes with magnitude 6 or larger\")\n",
        "plt.show()"
      ]
    },
    {
      "cell_type": "code",
      "execution_count": null,
      "metadata": {},
      "outputs": [],
      "source": []
    }
  ],
  "metadata": {
    "colab": {
      "provenance": []
    },
    "kernelspec": {
      "display_name": "climate_py39",
      "language": "python",
      "name": "python3"
    },
    "language_info": {
      "codemirror_mode": {
        "name": "ipython",
        "version": 3
      },
      "file_extension": ".py",
      "mimetype": "text/x-python",
      "name": "python",
      "nbconvert_exporter": "python",
      "pygments_lexer": "ipython3",
      "version": "3.11.4"
    },
    "orig_nbformat": 4
  },
  "nbformat": 4,
  "nbformat_minor": 0
}
