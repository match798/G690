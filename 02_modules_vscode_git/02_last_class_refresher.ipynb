{
 "cells": [
  {
   "cell_type": "markdown",
   "metadata": {},
   "source": [
    "# Lesson 02: Warm-up & Last Class Refresher\n",
    "\n",
    "Recall that last week's objectives were:\n",
    "\n",
    "* Describe fundamental aspects of a working Python script\n",
    "* Implement novel functions and for loops along with appropriate unit tests\n",
    "* Utilize 'external' python packages\n",
    "\n",
    "This warm-up aims to build on those objectives and reinforce them.\n",
    "\n",
    "\n",
    "## 1. Basics of functions\n",
    "\n",
    "### 1(a): ins and outs\n",
    "\n",
    "Run the following cell.  It doesn't work as expected.  Explain why (in a markdown cell below it) and create a new cell below that with a fixed version of the code."
   ]
  },
  {
   "cell_type": "code",
   "execution_count": 1,
   "metadata": {},
   "outputs": [
    {
     "ename": "TypeError",
     "evalue": "unsupported operand type(s) for *: 'int' and 'NoneType'",
     "output_type": "error",
     "traceback": [
      "\u001b[1;31m---------------------------------------------------------------------------\u001b[0m",
      "\u001b[1;31mTypeError\u001b[0m                                 Traceback (most recent call last)",
      "Cell \u001b[1;32mIn[1], line 11\u001b[0m\n\u001b[0;32m      7\u001b[0m         fac \u001b[38;5;241m=\u001b[39m n \u001b[38;5;241m*\u001b[39m factorial(n\u001b[38;5;241m-\u001b[39m\u001b[38;5;241m1\u001b[39m)\n\u001b[0;32m     10\u001b[0m \u001b[38;5;66;03m# test the factorial function; this should print 120\u001b[39;00m\n\u001b[1;32m---> 11\u001b[0m \u001b[38;5;28mprint\u001b[39m(\u001b[43mfactorial\u001b[49m\u001b[43m(\u001b[49m\u001b[38;5;241;43m5\u001b[39;49m\u001b[43m)\u001b[49m)\n",
      "Cell \u001b[1;32mIn[1], line 7\u001b[0m, in \u001b[0;36mfactorial\u001b[1;34m(n)\u001b[0m\n\u001b[0;32m      5\u001b[0m     fac \u001b[38;5;241m=\u001b[39m \u001b[38;5;241m1\u001b[39m\n\u001b[0;32m      6\u001b[0m \u001b[38;5;28;01melse\u001b[39;00m:\n\u001b[1;32m----> 7\u001b[0m     fac \u001b[38;5;241m=\u001b[39m n \u001b[38;5;241m*\u001b[39m \u001b[43mfactorial\u001b[49m\u001b[43m(\u001b[49m\u001b[43mn\u001b[49m\u001b[38;5;241;43m-\u001b[39;49m\u001b[38;5;241;43m1\u001b[39;49m\u001b[43m)\u001b[49m\n",
      "Cell \u001b[1;32mIn[1], line 7\u001b[0m, in \u001b[0;36mfactorial\u001b[1;34m(n)\u001b[0m\n\u001b[0;32m      5\u001b[0m     fac \u001b[38;5;241m=\u001b[39m \u001b[38;5;241m1\u001b[39m\n\u001b[0;32m      6\u001b[0m \u001b[38;5;28;01melse\u001b[39;00m:\n\u001b[1;32m----> 7\u001b[0m     fac \u001b[38;5;241m=\u001b[39m n \u001b[38;5;241m*\u001b[39m \u001b[43mfactorial\u001b[49m\u001b[43m(\u001b[49m\u001b[43mn\u001b[49m\u001b[38;5;241;43m-\u001b[39;49m\u001b[38;5;241;43m1\u001b[39;49m\u001b[43m)\u001b[49m\n",
      "    \u001b[1;31m[... skipping similar frames: factorial at line 7 (1 times)]\u001b[0m\n",
      "Cell \u001b[1;32mIn[1], line 7\u001b[0m, in \u001b[0;36mfactorial\u001b[1;34m(n)\u001b[0m\n\u001b[0;32m      5\u001b[0m     fac \u001b[38;5;241m=\u001b[39m \u001b[38;5;241m1\u001b[39m\n\u001b[0;32m      6\u001b[0m \u001b[38;5;28;01melse\u001b[39;00m:\n\u001b[1;32m----> 7\u001b[0m     fac \u001b[38;5;241m=\u001b[39m \u001b[43mn\u001b[49m\u001b[43m \u001b[49m\u001b[38;5;241;43m*\u001b[39;49m\u001b[43m \u001b[49m\u001b[43mfactorial\u001b[49m\u001b[43m(\u001b[49m\u001b[43mn\u001b[49m\u001b[38;5;241;43m-\u001b[39;49m\u001b[38;5;241;43m1\u001b[39;49m\u001b[43m)\u001b[49m\n",
      "\u001b[1;31mTypeError\u001b[0m: unsupported operand type(s) for *: 'int' and 'NoneType'"
     ]
    }
   ],
   "source": [
    "def factorial(n):\n",
    "    \"\"\"Calculates the factorial of a number.\"\"\"\n",
    "    fac = 1\n",
    "    if n == 1:\n",
    "        fac = 1\n",
    "    else:\n",
    "        fac = n * factorial(n-1)\n",
    "        \n",
    "\n",
    "# test the factorial function; this should print 120\n",
    "print(factorial(5))"
   ]
  },
  {
   "cell_type": "markdown",
   "metadata": {},
   "source": [
    "No return value for the function. The default is None for Python functions"
   ]
  },
  {
   "cell_type": "markdown",
   "metadata": {},
   "source": [
    "put answer to 1a here"
   ]
  },
  {
   "cell_type": "code",
   "execution_count": 2,
   "metadata": {},
   "outputs": [
    {
     "name": "stdout",
     "output_type": "stream",
     "text": [
      "120\n"
     ]
    }
   ],
   "source": [
    "# put correct code for 1a here\n",
    "def factorial(n):\n",
    "    \"\"\"Calculates the factorial of a number.\"\"\"\n",
    "    fac = 1\n",
    "    if n == 1:\n",
    "        fac = 1\n",
    "    else:\n",
    "        fac = n * factorial(n-1)\n",
    "    \n",
    "    return fac\n",
    "\n",
    "# test the factorial function; this should print 120\n",
    "print(factorial(5))"
   ]
  },
  {
   "cell_type": "markdown",
   "metadata": {},
   "source": [
    "### 1(b): Writing new functions\n",
    "\n",
    "Write a function representing the formula $z = x^2 + y^2$ and verify that it works as expected."
   ]
  },
  {
   "cell_type": "code",
   "execution_count": 3,
   "metadata": {},
   "outputs": [
    {
     "name": "stdout",
     "output_type": "stream",
     "text": [
      "25\n"
     ]
    }
   ],
   "source": [
    "# put code for 1b here\n",
    "def z_func(x, y):\n",
    "    return x**2 + y**2\n",
    "\n",
    "# test the results\n",
    "print(z_func(3, 4))"
   ]
  },
  {
   "cell_type": "markdown",
   "metadata": {},
   "source": [
    "### 1(c): Scope\n",
    "\n",
    "We haven't yet discussed the concept of *scope*, so we'll introduce it here through examining an interesting effect (and we'll discuss it more as time goes on.)\n",
    "\n",
    "Run the cell below.  We see that the value of `a` is redefined when `redefine_and_print_a()` is called, so why does the last print statement contain the original definition of `a` and not the one it was given within the function?\n"
   ]
  },
  {
   "cell_type": "code",
   "execution_count": 4,
   "metadata": {},
   "outputs": [
    {
     "name": "stdout",
     "output_type": "stream",
     "text": [
      "1: This is `a` with global scope.\n",
      "2: This is `a` with local scope.\n",
      "3: This is `a` with global scope.\n"
     ]
    }
   ],
   "source": [
    "# define a as a global variable here\n",
    "a = \"This is `a` with global scope.\"\n",
    "# print a to show its value\n",
    "print(f\"1: {a}\")\n",
    "\n",
    "# define a function\n",
    "def redefine_and_print_a():\n",
    "    # define a as a local variable here\n",
    "    a = \"This is `a` with local scope.\"\n",
    "    # print a to show its value\n",
    "    print(f\"2: {a}\")\n",
    "\n",
    "# call the function\n",
    "redefine_and_print_a()\n",
    "\n",
    "# print a one more time to show its value\n",
    "print(f\"3: {a}\")\n",
    "\n"
   ]
  },
  {
   "cell_type": "markdown",
   "metadata": {},
   "source": [
    "put your guess/answer to 1c here."
   ]
  },
  {
   "cell_type": "markdown",
   "metadata": {},
   "source": [
    "## 2. Using external packages\n",
    "\n",
    "Make a plot of the following equation  using `numpy` and `matplotlib`.  Use `x` values ranging from -8 to 8, and make plots using the following values of $\\sigma$: $\\sigma = [0.25,0.5,1,2,4]$\n",
    "\n",
    "$$N(x) = \\frac{1}{\\sigma \\sqrt{2 \\pi}} e^{-\\frac{x^2}{2 \\sigma^2}}$$\n",
    "\n",
    "Your solution should (a) define a new function to represent this formula, and (b) use a `for` loop.\n",
    "\n",
    "If you have time, customize the x- and y-axis labels, and add a legend."
   ]
  },
  {
   "cell_type": "code",
   "execution_count": 5,
   "metadata": {},
   "outputs": [],
   "source": [
    "# import libraries\n",
    "import numpy as np\n",
    "import matplotlib.pyplot as plt"
   ]
  },
  {
   "cell_type": "code",
   "execution_count": 6,
   "metadata": {},
   "outputs": [],
   "source": [
    "# put your code for 2 here\n",
    "def N(x: np.ndarray, sigma: float) -> np.ndarray:\n",
    "    return np.exp(-x**2 / (2*sigma**2)) / (sigma* np.sqrt(2*np.pi))"
   ]
  },
  {
   "cell_type": "code",
   "execution_count": 7,
   "metadata": {},
   "outputs": [
    {
     "data": {
      "image/png": "[encoded data removed]",
      "text/plain": [
       "<Figure size 640x480 with 1 Axes>"
      ]
     },
     "metadata": {},
     "output_type": "display_data"
    }
   ],
   "source": [
    "\"\"\" plot and test the function of normal distribution \"\"\"\n",
    "# define parameters\n",
    "sigma_values = [0.25, 0.5, 1, 2, 4]\n",
    "# create input array x\n",
    "x = np.linspace(-8, 8, 1000)\n",
    "\n",
    "# plot the results\n",
    "fig, ax = plt.subplots(1, 1)\n",
    "# for every sigma value\n",
    "for sigma in sigma_values:\n",
    "    ax.plot(x, N(x, sigma), label=r\"$\\sigma = {}$\".format(sigma))\n",
    "\n",
    "# customize the plot x and y labels\n",
    "ax.set_xlabel(r\"$x$\")\n",
    "ax.set_ylabel(r\"$N(x)$\")\n",
    "# add title\n",
    "ax.set_title(\"Normal distribution with different $\\sigma$\")\n",
    "# add legend\n",
    "ax.legend()\n",
    "\n",
    "plt.show()"
   ]
  }
 ],
 "metadata": {
  "kernelspec": {
   "display_name": "easg690",
   "language": "python",
   "name": "easg690"
  },
  "language_info": {
   "codemirror_mode": {
    "name": "ipython",
    "version": 3
   },
   "file_extension": ".py",
   "mimetype": "text/x-python",
   "name": "python",
   "nbconvert_exporter": "python",
   "pygments_lexer": "ipython3",
   "version": "3.10.13"
  },
  "orig_nbformat": 4
 },
 "nbformat": 4,
 "nbformat_minor": 2
}
