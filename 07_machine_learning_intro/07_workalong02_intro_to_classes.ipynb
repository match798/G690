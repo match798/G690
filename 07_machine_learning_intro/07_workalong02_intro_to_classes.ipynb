{
 "cells": [
  {
   "cell_type": "markdown",
   "metadata": {},
   "source": [
    "<a target=\"_blank\" href=\"https://colab.research.google.com/github/taobrienlbl/advanced_earth_science_data_analysis/blob/spring_2023_iub/lessons/07_machine_learning_intro/07_workalong02_intro_to_classes.ipynb\">\n",
    "  <img src=\"https://colab.research.google.com/assets/colab-badge.svg\" alt=\"Open In Colab\"/>\n",
    "</a>\n",
    "\n",
    "# Intro to *classes* in Python\n",
    "\n",
    "This notebook walks through some demonstrations of classes; it is accompanied by a bit of lecture."
   ]
  },
  {
   "cell_type": "code",
   "execution_count": 1,
   "metadata": {},
   "outputs": [],
   "source": [
    "\"\"\" Define a class called Animal. \"\"\"\n",
    "class Animal():\n",
    "    def __init__(self, limbs=4, eyes=2, tail=1) -> None:\n",
    "        self.limbs = limbs\n",
    "        self.eyes = eyes\n",
    "        self.tail = tail\n",
    "    \n",
    "    def speak(self):\n",
    "        \"\"\" Define a 'method' (function within a class) \"\"\"\n",
    "        print(\"Hello, I am an animal.\")\n",
    "    \n",
    "    def describe(self):\n",
    "        print(f\"I have {self.limbs} limbs, {self.eyes} eyes, and {self.tail} tail(s).\")\n"
   ]
  },
  {
   "cell_type": "code",
   "execution_count": 2,
   "metadata": {},
   "outputs": [
    {
     "name": "stdout",
     "output_type": "stream",
     "text": [
      "Hello, I am an animal.\n",
      "I have 4 limbs, 2 eyes, and 1 tail(s).\n"
     ]
    }
   ],
   "source": [
    "\"\"\" Create two animal objects.\"\"\"\n",
    "pet1 = Animal()\n",
    "pet1.speak()\n",
    "pet1.describe()"
   ]
  },
  {
   "cell_type": "code",
   "execution_count": 3,
   "metadata": {},
   "outputs": [
    {
     "name": "stdout",
     "output_type": "stream",
     "text": [
      "Hello, I am an animal.\n",
      "I have 5 limbs, 0 eyes, and 0 tail(s).\n"
     ]
    }
   ],
   "source": [
    "\"\"\" Call the methods of the animal objects. \"\"\"\n",
    "starfish1 = Animal(limbs=5, eyes=0, tail=0)\n",
    "starfish1.speak()\n",
    "starfish1.describe()"
   ]
  },
  {
   "cell_type": "code",
   "execution_count": 4,
   "metadata": {},
   "outputs": [],
   "source": [
    "\"\"\" Create a new class called Dog that inherits from Animal. \"\"\"\n",
    "class Dog(Animal):\n",
    "    def __init__(self, name, breed):\n",
    "        # initialize the parent class, but force the number of limbs\n",
    "        super().__init__(limbs=4, eyes=2, tail=1)\n",
    "\n",
    "        # store the name and breed\n",
    "        self.name = name\n",
    "        self.breed = breed\n",
    "\n",
    "    def speak(self):\n",
    "        \"\"\" Print '{dogs name}: Woof!' \"\"\"\n",
    "        print(f\"{self.name}: Woof!\")\n",
    "\n",
    "    # tell the info about this object\n",
    "    def __repr__(self):\n",
    "        return f\"Dog: name = {self.name}, breed = '{self.breed}'\"\n",
    "    "
   ]
  },
  {
   "cell_type": "code",
   "execution_count": 5,
   "metadata": {},
   "outputs": [
    {
     "name": "stdout",
     "output_type": "stream",
     "text": [
      "Hamachi: Woof!\n"
     ]
    },
    {
     "data": {
      "text/plain": [
       "Dog: name = Hamachi, breed = 'Terrier'"
      ]
     },
     "execution_count": 5,
     "metadata": {},
     "output_type": "execute_result"
    }
   ],
   "source": [
    "dog1= Dog(name='Hamachi', breed='Terrier')\n",
    "dog1.speak()\n",
    "dog1"
   ]
  },
  {
   "cell_type": "code",
   "execution_count": 15,
   "metadata": {},
   "outputs": [],
   "source": [
    "\"\"\" Now create a new quadratic class that has a 'gradient' method. \"\"\"\n",
    "\n",
    "class Quadratic:\n",
    "\n",
    "    def __init__(self, a, b, c):\n",
    "        \"\"\" This is the constructor: it is called when a new object of type 'Quadratic' is created \"\"\"\n",
    "        self.a = a\n",
    "        self.b = b\n",
    "        self.c = c\n",
    "\n",
    "    def gradient(self, x):\n",
    "        \"\"\" Calculate the gradient of the quadratic at a given point. \"\"\"\n",
    "        return 2*self.a*x + self.b\n",
    "\n",
    "    def evaluate(self, x):\n",
    "        \"\"\" This method evaluates the polynomial \"\"\"\n",
    "        return self.a*x**2 + self.b*x + self.c\n",
    "\n",
    "    def __repr__(self):\n",
    "        \"\"\" Print the quadratic \"\"\"\n",
    "        return f\"Quadratic: {self.a}x**2 + {self.b}x + {self.c}\"\n",
    "\n",
    "    def __eval__(self, x):\n",
    "        \"\"\" Evaluate the quadratic \"\"\"\n",
    "        return self.evaluate(x)"
   ]
  },
  {
   "cell_type": "code",
   "execution_count": 16,
   "metadata": {},
   "outputs": [
    {
     "data": {
      "text/plain": [
       "Quadratic: 0x**2 + 2x + 3"
      ]
     },
     "execution_count": 16,
     "metadata": {},
     "output_type": "execute_result"
    }
   ],
   "source": [
    "\"\"\" Test the quadratic class.\"\"\"\n",
    "f1 = Quadratic(a=0, b=2, c=3)\n",
    "f1"
   ]
  },
  {
   "cell_type": "code",
   "execution_count": 17,
   "metadata": {},
   "outputs": [
    {
     "data": {
      "text/plain": [
       "2"
      ]
     },
     "execution_count": 17,
     "metadata": {},
     "output_type": "execute_result"
    }
   ],
   "source": [
    "f1.gradient(0)"
   ]
  },
  {
   "cell_type": "code",
   "execution_count": 18,
   "metadata": {},
   "outputs": [
    {
     "data": {
      "text/plain": [
       "3"
      ]
     },
     "execution_count": 18,
     "metadata": {},
     "output_type": "execute_result"
    }
   ],
   "source": [
    "f1.evaluate(0)"
   ]
  },
  {
   "cell_type": "code",
   "execution_count": null,
   "metadata": {},
   "outputs": [],
   "source": []
  }
 ],
 "metadata": {
  "kernelspec": {
   "display_name": "easg690",
   "language": "python",
   "name": "easg690"
  },
  "language_info": {
   "codemirror_mode": {
    "name": "ipython",
    "version": 3
   },
   "file_extension": ".py",
   "mimetype": "text/x-python",
   "name": "python",
   "nbconvert_exporter": "python",
   "pygments_lexer": "ipython3",
   "version": "3.10.13"
  }
 },
 "nbformat": 4,
 "nbformat_minor": 2
}
